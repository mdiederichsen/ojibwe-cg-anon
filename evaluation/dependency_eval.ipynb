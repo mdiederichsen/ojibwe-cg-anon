{
 "cells": [
  {
   "cell_type": "markdown",
   "id": "97d7740f",
   "metadata": {},
   "source": [
    "## Evaluation for Dependency Parsing\n",
    "\n",
    "The evaluation for dependency parsing will be split up into four stages, namely:\n",
    "\n",
    "1) Parsing the dependency outputs on the disambiguated text\n",
    "2) Correcting mistakes in these outputs to create a gold standard\n",
    "3) Evaluating the dependency parsing model on the gold standard\n"
   ]
  },
  {
   "cell_type": "markdown",
   "id": "e2422109",
   "metadata": {},
   "source": [
    "### Parsing the dependency outputs\n",
    "\n",
    "To parse the dependency outputs, we will run the current dependency parsing model on `disambig_gold_100.txt `. The reason for running the model on the gold standard of the disambiguation, instead of raw input text, is that this allows us to create a *truly* gold standard for the dependency model. We want the gold standard for the dependencies be focused on only the dependency parsing logic, so we need the input readings to be correctly disambiguated beforehand. When evaluating the dependency set, we will be sure to check for failure cases that might have been caused by the disambiguation model, but such cases should be relatively rare. \n",
    "\n",
    "Using the 100 hand-corrected sentences, we will now parse the system-generated dependency outputs. We will use code from `src/booklets.py`, which will simultaneously provide us a html visualization to help with annotation of the gold standard:"
   ]
  },
  {
   "cell_type": "code",
   "execution_count": 1,
   "id": "537bd006",
   "metadata": {},
   "outputs": [],
   "source": [
    "import sys\n",
    "from pathlib import Path\n",
    "ROOT = Path.cwd().resolve()\n",
    "while ROOT != ROOT.parent and not (ROOT / \"src\").exists():\n",
    "    ROOT = ROOT.parent\n",
    "sys.path.insert(0, str(ROOT))"
   ]
  },
  {
   "cell_type": "code",
   "execution_count": 2,
   "id": "10884444",
   "metadata": {},
   "outputs": [
    {
     "data": {
      "application/vnd.jupyter.widget-view+json": {
       "model_id": "6889d7fad60f48e9a405d9c11583344d",
       "version_major": 2,
       "version_minor": 0
      },
      "text/plain": [
       "Output()"
      ]
     },
     "metadata": {},
     "output_type": "display_data"
    },
    {
     "data": {
      "text/html": [
       "<pre style=\"white-space:pre;overflow-x:auto;line-height:normal;font-family:Menlo,'DejaVu Sans Mono',consolas,'Courier New',monospace\"></pre>\n"
      ],
      "text/plain": []
     },
     "metadata": {},
     "output_type": "display_data"
    },
    {
     "data": {
      "application/vnd.jupyter.widget-view+json": {
       "model_id": "3d4382ea35394778b6ebbc5531d6e8f7",
       "version_major": 2,
       "version_minor": 0
      },
      "text/plain": [
       "Output()"
      ]
     },
     "metadata": {},
     "output_type": "display_data"
    },
    {
     "data": {
      "text/html": [
       "<pre style=\"white-space:pre;overflow-x:auto;line-height:normal;font-family:Menlo,'DejaVu Sans Mono',consolas,'Courier New',monospace\"></pre>\n"
      ],
      "text/plain": []
     },
     "metadata": {},
     "output_type": "display_data"
    },
    {
     "name": "stdout",
     "output_type": "stream",
     "text": [
      "Wrote booklet: /Users/matthias/ELF-Lab Repos/Ojibwe_Constraint_Grammar/evaluation/eval_data/sample_dep/opd_dep_100.html  (100 sentences)\n",
      "Wrote treebank: /Users/matthias/ELF-Lab Repos/Ojibwe_Constraint_Grammar/evaluation/eval_data/sample_dep/opd_dep_100.conllu\n"
     ]
    }
   ],
   "source": [
    "from src.booklets import build_dep_booklet_from_disamb\n",
    "from pathlib import Path\n",
    "\n",
    "# Build the gold sample (Paths are from project root)\n",
    "source = ROOT / \"evaluation\" / \"eval_data\" / \"gold\" / \"disambig_gold_100.txt\"\n",
    "dep_cg3 = ROOT / \"data\" / \"grammars\" / \"dependency.cg3\"\n",
    "out_conllu = ROOT / \"evaluation\" / \"eval_data\" / \"sample_dep\" / \"opd_dep_100.conllu\"\n",
    "out_html = ROOT / \"evaluation\" / \"eval_data\" / \"sample_dep\" / \"opd_dep_100.html\"\n",
    "\n",
    "build_dep_booklet_from_disamb(source, dep_cg3, out_conllu, out_html,\n",
    "                              html_title=\"Ojibwe Dependencies on Disambiguation Gold\")\n"
   ]
  },
  {
   "cell_type": "markdown",
   "id": "986f05c2",
   "metadata": {},
   "source": [
    "### Create the gold standard\n",
    "\n",
    "The gold standard was created manually done by editing and reassigning relationships in  `opd_dep_100.conllu`. Only currently modeled dependency relations were checked. The gold set is in `eval_data/gold/dep_gold_100.conllu`."
   ]
  },
  {
   "cell_type": "markdown",
   "id": "9f2a6753",
   "metadata": {},
   "source": [
    "### Evaluating the dependency parsing module\n",
    "\n",
    "Based on the gold set, we can now evaluate the actual performance of our dependency model."
   ]
  },
  {
   "cell_type": "code",
   "execution_count": 3,
   "id": "b93c00ba",
   "metadata": {},
   "outputs": [
    {
     "data": {
      "text/plain": [
       "{'tokens_considered': 237,\n",
       " 'precision': 0.9903381642512077,\n",
       " 'recall': 0.8649789029535865,\n",
       " 'f1': 0.9234234234234234,\n",
       " 'accuracy': 0.8649789029535865,\n",
       " 'sys_total': 207,\n",
       " 'gold_total': 237,\n",
       " 'correct': 205,\n",
       " 'macro_precision': 0.7642776735459662,\n",
       " 'macro_recall': 0.6612493197859052,\n",
       " 'macro_f1': 0.709040367700942}"
      ]
     },
     "execution_count": 3,
     "metadata": {},
     "output_type": "execute_result"
    }
   ],
   "source": [
    "from evaluation.eval_modules.data_io import parse_conllu\n",
    "from evaluation.eval_modules.dep_eval import eval_rels_detailed, write_per_rel_table\n",
    "\n",
    "# Data directory for evaluation\n",
    "DATA = ROOT / \"evaluation\" / \"eval_data\"\n",
    "\n",
    "# Dependency eval\n",
    "# List of dep relations we focus on\n",
    "FOCUS_RELS = [\"nsubj\",\"obj\",\"iobj\",\"det\",\"obl\",\"nummod\",\"discourse\",\"case\",\"advmod\",\"neg\",\"acl:relcl\",\"csubj\",\"ccomp\"]\n",
    "gold_dep = DATA / \"gold/dep_gold_100.conllu\"\n",
    "sys_dep  = DATA / \"sample_dep/opd_dep_100.conllu\"\n",
    "gold_blocks = parse_conllu(gold_dep)\n",
    "sys_blocks  = parse_conllu(sys_dep)\n",
    "overall, per_rel = eval_rels_detailed(\n",
    "    gold_blocks, sys_blocks,\n",
    "    FOCUS_RELS\n",
    ")\n",
    "overall\n"
   ]
  },
  {
   "cell_type": "markdown",
   "id": "bd08a03d",
   "metadata": {},
   "source": [
    "#### Eval Table: Per-Relationship Type"
   ]
  },
  {
   "cell_type": "code",
   "execution_count": 4,
   "id": "0cbd4efc",
   "metadata": {},
   "outputs": [
    {
     "name": "stdout",
     "output_type": "stream",
     "text": [
      "rel             gold   sys  correct      P      R     F1\n",
      "--------------------------------------------------------\n",
      "nsubj             41    40       40  1.000  0.976  0.988\n",
      "obj               41    41       40  0.976  0.976  0.976\n",
      "iobj               0     0        0  0.000  0.000  0.000\n",
      "det               27    27       27  1.000  1.000  1.000\n",
      "obl               33    25       24  0.960  0.727  0.828\n",
      "nummod             1     1        1  1.000  1.000  1.000\n",
      "discourse         22    22       22  1.000  1.000  1.000\n",
      "case               7     6        6  1.000  0.857  0.923\n",
      "advmod            55    40       40  1.000  0.727  0.842\n",
      "neg                4     4        4  1.000  1.000  1.000\n",
      "acl:relcl          3     1        1  1.000  0.333  0.500\n",
      "csubj              0     0        0  0.000  0.000  0.000\n",
      "ccomp              3     0        0  0.000  0.000  0.000\n"
     ]
    }
   ],
   "source": [
    "print(write_per_rel_table(per_rel, FOCUS_RELS))\n"
   ]
  }
 ],
 "metadata": {
  "kernelspec": {
   "display_name": "myenv_py312_arm",
   "language": "python",
   "name": "python3"
  },
  "language_info": {
   "codemirror_mode": {
    "name": "ipython",
    "version": 3
   },
   "file_extension": ".py",
   "mimetype": "text/x-python",
   "name": "python",
   "nbconvert_exporter": "python",
   "pygments_lexer": "ipython3",
   "version": "3.12.11"
  }
 },
 "nbformat": 4,
 "nbformat_minor": 5
}
